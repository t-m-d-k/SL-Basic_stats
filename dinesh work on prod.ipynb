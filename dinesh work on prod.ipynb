{
 "cells": [
  {
   "cell_type": "code",
   "execution_count": 2,
   "metadata": {},
   "outputs": [],
   "source": [
    "#bernouli for 0.3-p on head"
   ]
  },
  {
   "cell_type": "code",
   "execution_count": 1,
   "metadata": {},
   "outputs": [
    {
     "data": {
      "text/plain": [
       "(0.7, 0.3)"
      ]
     },
     "execution_count": 1,
     "metadata": {},
     "output_type": "execute_result"
    }
   ],
   "source": [
    "import scipy.stats as stats\n",
    "\n",
    "# Probability of success\n",
    "p = 0.3\n",
    "\n",
    "# Create a Bernoulli distribution\n",
    "bernoulli_rv = stats.bernoulli(p)\n",
    "\n",
    "# Calculate the probability for x = 0 and x = 1\n",
    "prob_0 = bernoulli_rv.pmf(0)\n",
    "prob_1 = bernoulli_rv.pmf(1)\n",
    "\n",
    "prob_0, prob_1\n"
   ]
  },
  {
   "cell_type": "code",
   "execution_count": 3,
   "metadata": {},
   "outputs": [],
   "source": [
    "#when we do bernouli on 1000 sample"
   ]
  },
  {
   "cell_type": "code",
   "execution_count": 4,
   "metadata": {},
   "outputs": [
    {
     "data": {
      "image/png": "[encoded data removed]",
      "text/plain": [
       "<Figure size 432x288 with 1 Axes>"
      ]
     },
     "metadata": {
      "needs_background": "light"
     },
     "output_type": "display_data"
    },
    {
     "name": "stdout",
     "output_type": "stream",
     "text": [
      "Mean: 0.283\n",
      "Variance: 0.20291100000000006\n"
     ]
    }
   ],
   "source": [
    "from scipy.stats import bernoulli\n",
    "import numpy as np\n",
    "import matplotlib.pyplot as plt\n",
    "\n",
    "# Probability of success (heads)\n",
    "p = 0.3\n",
    "\n",
    "# Generate Bernoulli distributed data (1000 coin flips)\n",
    "data = bernoulli.rvs(p, size=1000)\n",
    "\n",
    "# Plot the distribution\n",
    "plt.hist(data, bins=2, edgecolor='k', alpha=0.7)\n",
    "plt.xticks([0, 1], ['Tails (0)', 'Heads (1)'])\n",
    "plt.xlabel('Outcome')\n",
    "plt.ylabel('Frequency')\n",
    "plt.title('Bernoulli Distribution (p=0.3)')\n",
    "plt.show()\n",
    "\n",
    "# Calculate the mean and variance\n",
    "mean = np.mean(data)\n",
    "variance = np.var(data)\n",
    "print(f\"Mean: {mean}\")\n",
    "print(f\"Variance: {variance}\")\n",
    "\n"
   ]
  },
  {
   "cell_type": "code",
   "execution_count": 5,
   "metadata": {},
   "outputs": [],
   "source": [
    "#binomial"
   ]
  },
  {
   "cell_type": "code",
   "execution_count": 6,
   "metadata": {},
   "outputs": [
    {
     "name": "stdout",
     "output_type": "stream",
     "text": [
      "r\tp(r)\n",
      "[0.4409999999999998]\n",
      "mean = 2.0999999999999996\n",
      "variance = 0.63\n"
     ]
    }
   ],
   "source": [
    "#https://www.mathsisfun.com/data/binomial-distribution.html\n",
    "from scipy.stats import binom\n",
    "# Setting the values of n and p\n",
    "n = 3\n",
    "p = 0.7\n",
    "k=2\n",
    "# Defining the list of r values\n",
    "r_values = list(range(n + 1))\n",
    "# Obtaining the mean and variance\n",
    "mean, var = binom.stats(n, p)\n",
    "# List of pmf values\n",
    "dist = [binom.pmf(k, n, p) ]\n",
    "# Printing the table\n",
    "print(\"r\\tp(r)\")\n",
    "print(dist)\n",
    "# Printing mean and variance\n",
    "print(\"mean = \"+str(mean))\n",
    "print(\"variance = \"+str(var))"
   ]
  },
  {
   "cell_type": "code",
   "execution_count": 7,
   "metadata": {},
   "outputs": [
    {
     "name": "stdout",
     "output_type": "stream",
     "text": [
      "r\tp(r)\n",
      "[0.26682793200000005]\n",
      "mean = 7.0\n",
      "variance = 2.1000000000000005\n"
     ]
    }
   ],
   "source": [
    "#https://www.mathsisfun.com/data/binomial-distribution.html\n",
    "from scipy.stats import binom\n",
    "# Setting the values of n and p\n",
    "n = 10\n",
    "p = 0.7\n",
    "k=7\n",
    "# Defining the list of r values\n",
    "r_values = list(range(n + 1))\n",
    "# Obtaining the mean and variance\n",
    "mean, var = binom.stats(n, p)\n",
    "# List of pmf values\n",
    "dist = [binom.pmf(k, n, p) ]\n",
    "# Printing the table\n",
    "print(\"r\\tp(r)\")\n",
    "print(dist)\n",
    "# Printing mean and variance\n",
    "print(\"mean = \"+str(mean))\n",
    "print(\"variance = \"+str(var))"
   ]
  },
  {
   "cell_type": "code",
   "execution_count": 8,
   "metadata": {},
   "outputs": [],
   "source": [
    "#posion"
   ]
  },
  {
   "cell_type": "code",
   "execution_count": 9,
   "metadata": {},
   "outputs": [
    {
     "name": "stdout",
     "output_type": "stream",
     "text": [
      "P(X = 0) = 0.1353\n",
      "P(X = 1) = 0.2707\n",
      "P(X = 2) = 0.2707\n",
      "P(X = 3) = 0.1804\n",
      "P(X = 4) = 0.0902\n",
      "P(X = 5) = 0.0361\n"
     ]
    }
   ],
   "source": [
    "import scipy.stats as stats\n",
    "\n",
    "# Mean number of occurrences (lambda)\n",
    "lambda_ = 2\n",
    "\n",
    "# Calculate probabilities for k = 0, 1, 2, 3, 4, 5\n",
    "probabilities = [stats.poisson.pmf(k, lambda_) for k in range(6)]\n",
    "\n",
    "# Print the results\n",
    "for k, prob in enumerate(probabilities):\n",
    "    print(f\"P(X = {k}) = {prob:.4f}\")\n"
   ]
  },
  {
   "cell_type": "code",
   "execution_count": null,
   "metadata": {},
   "outputs": [],
   "source": []
  }
 ],
 "metadata": {
  "kernelspec": {
   "display_name": "Python 3",
   "language": "python",
   "name": "python3"
  },
  "language_info": {
   "codemirror_mode": {
    "name": "ipython",
    "version": 3
   },
   "file_extension": ".py",
   "mimetype": "text/x-python",
   "name": "python",
   "nbconvert_exporter": "python",
   "pygments_lexer": "ipython3",
   "version": "3.7.6"
  }
 },
 "nbformat": 4,
 "nbformat_minor": 4
}
